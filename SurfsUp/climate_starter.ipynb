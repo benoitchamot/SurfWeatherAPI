{
 "cells": [
  {
   "cell_type": "code",
   "execution_count": 7,
   "metadata": {},
   "outputs": [],
   "source": [
    "%matplotlib inline\n",
    "from matplotlib import style\n",
    "style.use('fivethirtyeight')\n",
    "import matplotlib.pyplot as plt"
   ]
  },
  {
   "cell_type": "code",
   "execution_count": 8,
   "metadata": {},
   "outputs": [],
   "source": [
    "import numpy as np\n",
    "import pandas as pd\n",
    "import datetime as dt"
   ]
  },
  {
   "cell_type": "markdown",
   "metadata": {},
   "source": [
    "# Reflect Tables into SQLAlchemy ORM"
   ]
  },
  {
   "cell_type": "code",
   "execution_count": 9,
   "metadata": {},
   "outputs": [],
   "source": [
    "# Python SQL toolkit and Object Relational Mapper\n",
    "import sqlalchemy\n",
    "from sqlalchemy.ext.automap import automap_base\n",
    "from sqlalchemy.orm import Session\n",
    "from sqlalchemy import create_engine, func\n",
    "from sqlalchemy import desc"
   ]
  },
  {
   "cell_type": "code",
   "execution_count": 10,
   "metadata": {},
   "outputs": [],
   "source": [
    "# create engine to hawaii.sqlite\n",
    "engine = create_engine(\"sqlite:///Resources/hawaii.sqlite\")"
   ]
  },
  {
   "cell_type": "code",
   "execution_count": 11,
   "metadata": {},
   "outputs": [],
   "source": [
    "# reflect an existing database into a new model\n",
    "Base = automap_base()\n",
    "\n",
    "# reflect the tables (use either prepare function based on your version of SQLAlchemy)\n",
    "\n",
    "# Option 1:\n",
    "# Base.prepare(autoload_with=engine)\n",
    "\n",
    "# Option 2:\n",
    "Base.prepare(engine, reflect=True)\n"
   ]
  },
  {
   "cell_type": "code",
   "execution_count": 12,
   "metadata": {},
   "outputs": [
    {
     "data": {
      "text/plain": [
       "['measurement', 'station']"
      ]
     },
     "execution_count": 12,
     "metadata": {},
     "output_type": "execute_result"
    }
   ],
   "source": [
    "# View all of the classes that automap found\n",
    "Base.classes.keys()"
   ]
  },
  {
   "cell_type": "code",
   "execution_count": 13,
   "metadata": {},
   "outputs": [],
   "source": [
    "# Save references to each table\n",
    "measurement = Base.classes.measurement\n",
    "station = Base.classes.station"
   ]
  },
  {
   "cell_type": "code",
   "execution_count": 14,
   "metadata": {},
   "outputs": [],
   "source": [
    "# Create our session (link) from Python to the DB\n",
    "session = Session(bind=engine)"
   ]
  },
  {
   "cell_type": "markdown",
   "metadata": {},
   "source": [
    "# Exploratory Precipitation Analysis"
   ]
  },
  {
   "cell_type": "code",
   "execution_count": 15,
   "metadata": {},
   "outputs": [],
   "source": [
    "def str_to_date(in_string):\n",
    "# Convert a date stored as a string from the database and convert it to a datetime object.\n",
    "# Input string format: YYYY-MM-DD\n",
    "    out_date = dt.datetime.strptime(in_string, '%Y-%m-%d')\n",
    "    return dt.date(out_date.year, out_date.month, out_date.day)\n",
    "\n",
    "def last_12_months(date_string):\n",
    "# Return the most recent date and a date a year ago from the most recent date\n",
    "# Input: date in string format YYYY-MM-DD\n",
    "# Output 1: most recent date (datetime)\n",
    "# Output 2: date a year from the most recent date (datetime)\n",
    "\n",
    "    # Convert string to datetime\n",
    "    most_recent_date = str_to_date(date_string)\n",
    "\n",
    "    # Print most recent date in the dataset\n",
    "    print(f\"Most recent date in table: {most_recent_date}\")\n",
    "\n",
    "    # Design a query to retrieve the last 12 months of precipitation data and plot the results.\n",
    "    # Starting from the most recent data point in the database. Calculate the date one year from the last date in data set.\n",
    "    most_recent_date_plus_1y = dt.date(most_recent_date.year - 1, most_recent_date.month, most_recent_date.day)\n",
    "    print(f\"One year from most recent date: {most_recent_date_plus_1y}\")\n",
    "\n",
    "    return most_recent_date, most_recent_date_plus_1y"
   ]
  },
  {
   "cell_type": "code",
   "execution_count": 16,
   "metadata": {},
   "outputs": [
    {
     "name": "stdout",
     "output_type": "stream",
     "text": [
      "Most recent date in table: 2017-08-23\n",
      "One year from most recent date: 2016-08-23\n"
     ]
    }
   ],
   "source": [
    "# Find the most recent date in the dataset\n",
    "most_recent_date_string = session.query(measurement).order_by(desc(measurement.date)).first().date\n",
    "most_recent_date, most_recent_date_plus_1y = last_12_months(most_recent_date_string)"
   ]
  },
  {
   "cell_type": "code",
   "execution_count": 17,
   "metadata": {},
   "outputs": [
    {
     "data": {
      "text/plain": [
       "<sqlalchemy.orm.query.Query at 0x1e6f0855240>"
      ]
     },
     "metadata": {},
     "output_type": "display_data"
    }
   ],
   "source": [
    "# Query the data ordered by date in descending order (most recent to least recent)\n",
    "measurement_new_to_old = session.query(measurement).order_by(desc(measurement.date))\n",
    "\n",
    "# Create empty lists\n",
    "dates = []\n",
    "prcps = []\n",
    "\n",
    "# Loop through the measurements\n",
    "for row in measurement_new_to_old:\n",
    "    # Convert date to datetime\n",
    "    row_date = str_to_date(row.date)\n",
    "    \n",
    "    # If the date is more recent than the limit date (1 year from most recent date)\n",
    "    # and the precipitations values are not null...\n",
    "    if (row_date >= most_recent_date_plus_1y) & (type(row.prcp) == float):\n",
    "        # ... then append the data to the lists\n",
    "        dates.append(row_date)\n",
    "        prcps.append(row.prcp)\n"
   ]
  },
  {
   "cell_type": "code",
   "execution_count": 18,
   "metadata": {},
   "outputs": [
    {
     "data": {
      "text/html": [
       "<div>\n",
       "<style scoped>\n",
       "    .dataframe tbody tr th:only-of-type {\n",
       "        vertical-align: middle;\n",
       "    }\n",
       "\n",
       "    .dataframe tbody tr th {\n",
       "        vertical-align: top;\n",
       "    }\n",
       "\n",
       "    .dataframe thead th {\n",
       "        text-align: right;\n",
       "    }\n",
       "</style>\n",
       "<table border=\"1\" class=\"dataframe\">\n",
       "  <thead>\n",
       "    <tr style=\"text-align: right;\">\n",
       "      <th></th>\n",
       "      <th>Date</th>\n",
       "      <th>Precipitations</th>\n",
       "    </tr>\n",
       "  </thead>\n",
       "  <tbody>\n",
       "    <tr>\n",
       "      <th>0</th>\n",
       "      <td>2017-08-23</td>\n",
       "      <td>0.0</td>\n",
       "    </tr>\n",
       "    <tr>\n",
       "      <th>3</th>\n",
       "      <td>2017-08-23</td>\n",
       "      <td>11.4</td>\n",
       "    </tr>\n",
       "    <tr>\n",
       "      <th>1</th>\n",
       "      <td>2017-08-23</td>\n",
       "      <td>0.0</td>\n",
       "    </tr>\n",
       "    <tr>\n",
       "      <th>2</th>\n",
       "      <td>2017-08-23</td>\n",
       "      <td>2.0</td>\n",
       "    </tr>\n",
       "    <tr>\n",
       "      <th>6</th>\n",
       "      <td>2017-08-22</td>\n",
       "      <td>12.7</td>\n",
       "    </tr>\n",
       "    <tr>\n",
       "      <th>...</th>\n",
       "      <td>...</td>\n",
       "      <td>...</td>\n",
       "    </tr>\n",
       "    <tr>\n",
       "      <th>2016</th>\n",
       "      <td>2016-08-23</td>\n",
       "      <td>3.8</td>\n",
       "    </tr>\n",
       "    <tr>\n",
       "      <th>2017</th>\n",
       "      <td>2016-08-23</td>\n",
       "      <td>1.3</td>\n",
       "    </tr>\n",
       "    <tr>\n",
       "      <th>2018</th>\n",
       "      <td>2016-08-23</td>\n",
       "      <td>0.5</td>\n",
       "    </tr>\n",
       "    <tr>\n",
       "      <th>2019</th>\n",
       "      <td>2016-08-23</td>\n",
       "      <td>45.5</td>\n",
       "    </tr>\n",
       "    <tr>\n",
       "      <th>2020</th>\n",
       "      <td>2016-08-23</td>\n",
       "      <td>17.8</td>\n",
       "    </tr>\n",
       "  </tbody>\n",
       "</table>\n",
       "<p>2021 rows × 2 columns</p>\n",
       "</div>"
      ],
      "text/plain": [
       "            Date  Precipitations\n",
       "0     2017-08-23             0.0\n",
       "3     2017-08-23            11.4\n",
       "1     2017-08-23             0.0\n",
       "2     2017-08-23             2.0\n",
       "6     2017-08-22            12.7\n",
       "...          ...             ...\n",
       "2016  2016-08-23             3.8\n",
       "2017  2016-08-23             1.3\n",
       "2018  2016-08-23             0.5\n",
       "2019  2016-08-23            45.5\n",
       "2020  2016-08-23            17.8\n",
       "\n",
       "[2021 rows x 2 columns]"
      ]
     },
     "metadata": {},
     "output_type": "display_data"
    },
    {
     "data": {
      "image/png": "[encoded data removed]",
      "text/plain": [
       "<Figure size 640x480 with 1 Axes>"
      ]
     },
     "metadata": {},
     "output_type": "display_data"
    }
   ],
   "source": [
    "# Save the query results as a Pandas DataFrame. Explicitly set the column names. Sort the DataFrame by date\n",
    "measurements_df = pd.DataFrame({'Date': dates, 'Precipitations': prcps}).sort_values('Date', ascending=False)\n",
    "display(measurements_df)\n",
    "\n",
    "# Group by date and calculate the maximum precipitation\n",
    "max_prcp_per_month = measurements_df.groupby('Date').max()\n",
    "\n",
    "# Number of ticks\n",
    "N = 6\n",
    "\n",
    "# Ticks range and locations\n",
    "L = len(max_prcp_per_month)\n",
    "x_axis = [i*L/N for i in range(N)]\n",
    "tick_location = [max_prcp_per_month.iloc[int(x)].name for x in x_axis]\n",
    "\n",
    "# Plot the precipitations per day\n",
    "max_prcp_per_month.plot.bar(width=5, ylabel='Precipitation (mm)', legend = False, title = 'Daily max precipitation')\n",
    "plt.xticks(x_axis, tick_location,rotation=90)\n",
    "plt.ylim(0,190)\n",
    "plt.show()"
   ]
  },
  {
   "cell_type": "code",
   "execution_count": 19,
   "metadata": {},
   "outputs": [
    {
     "data": {
      "text/html": [
       "<div>\n",
       "<style scoped>\n",
       "    .dataframe tbody tr th:only-of-type {\n",
       "        vertical-align: middle;\n",
       "    }\n",
       "\n",
       "    .dataframe tbody tr th {\n",
       "        vertical-align: top;\n",
       "    }\n",
       "\n",
       "    .dataframe thead th {\n",
       "        text-align: right;\n",
       "    }\n",
       "</style>\n",
       "<table border=\"1\" class=\"dataframe\">\n",
       "  <thead>\n",
       "    <tr style=\"text-align: right;\">\n",
       "      <th></th>\n",
       "      <th>Precipitations</th>\n",
       "    </tr>\n",
       "  </thead>\n",
       "  <tbody>\n",
       "    <tr>\n",
       "      <th>count</th>\n",
       "      <td>2021.000000</td>\n",
       "    </tr>\n",
       "    <tr>\n",
       "      <th>mean</th>\n",
       "      <td>4.505888</td>\n",
       "    </tr>\n",
       "    <tr>\n",
       "      <th>std</th>\n",
       "      <td>11.713487</td>\n",
       "    </tr>\n",
       "    <tr>\n",
       "      <th>min</th>\n",
       "      <td>0.000000</td>\n",
       "    </tr>\n",
       "    <tr>\n",
       "      <th>25%</th>\n",
       "      <td>0.000000</td>\n",
       "    </tr>\n",
       "    <tr>\n",
       "      <th>50%</th>\n",
       "      <td>0.500000</td>\n",
       "    </tr>\n",
       "    <tr>\n",
       "      <th>75%</th>\n",
       "      <td>3.300000</td>\n",
       "    </tr>\n",
       "    <tr>\n",
       "      <th>max</th>\n",
       "      <td>170.200000</td>\n",
       "    </tr>\n",
       "  </tbody>\n",
       "</table>\n",
       "</div>"
      ],
      "text/plain": [
       "       Precipitations\n",
       "count     2021.000000\n",
       "mean         4.505888\n",
       "std         11.713487\n",
       "min          0.000000\n",
       "25%          0.000000\n",
       "50%          0.500000\n",
       "75%          3.300000\n",
       "max        170.200000"
      ]
     },
     "execution_count": 19,
     "metadata": {},
     "output_type": "execute_result"
    }
   ],
   "source": [
    "# Use Pandas to calculate the summary statistics for the precipitation data\n",
    "measurements_df.describe()"
   ]
  },
  {
   "cell_type": "markdown",
   "metadata": {},
   "source": [
    "# Exploratory Station Analysis"
   ]
  },
  {
   "cell_type": "code",
   "execution_count": 20,
   "metadata": {},
   "outputs": [
    {
     "name": "stdout",
     "output_type": "stream",
     "text": [
      "There are 9 stations in the station table\n",
      "There are 9 stations in the measurement table\n"
     ]
    }
   ],
   "source": [
    "# Design a query to calculate the total number of stations in the dataset\n",
    "station_count_station = session.query(station).count()\n",
    "print(f\"There are {station_count_station} stations in the station table\")\n",
    "\n",
    "station_count_measurement = session.query(measurement.station).distinct().count()\n",
    "print(f\"There are {station_count_measurement} stations in the measurement table\")"
   ]
  },
  {
   "cell_type": "code",
   "execution_count": 21,
   "metadata": {},
   "outputs": [
    {
     "data": {
      "text/plain": [
       "[('USC00519281', 2772),\n",
       " ('USC00519397', 2724),\n",
       " ('USC00513117', 2709),\n",
       " ('USC00519523', 2669),\n",
       " ('USC00516128', 2612),\n",
       " ('USC00514830', 2202),\n",
       " ('USC00511918', 1979),\n",
       " ('USC00517948', 1372),\n",
       " ('USC00518838', 511)]"
      ]
     },
     "metadata": {},
     "output_type": "display_data"
    }
   ],
   "source": [
    "# Design a query to find the most active stations (i.e. which stations have the most rows?)\n",
    "# List the stations and their counts in descending order.\n",
    "\n",
    "# Get the station and count of rows\n",
    "station_activity = session.query(measurement.station, func.count(measurement.station))\n",
    "\n",
    "# Group by station to get the count per station\n",
    "station_activity = station_activity.group_by(measurement.station)\n",
    "\n",
    "# Order by count of station (in descending order)\n",
    "station_activity = station_activity.order_by(desc(func.count(measurement.station)))\n",
    "\n",
    "# Return the result as a list\n",
    "station_activity = station_activity.all()\n",
    "\n",
    "# Display the list with each station with the count of rows in which it appears\n",
    "display(station_activity)"
   ]
  },
  {
   "cell_type": "code",
   "execution_count": 22,
   "metadata": {},
   "outputs": [
    {
     "name": "stdout",
     "output_type": "stream",
     "text": [
      "The most active station is: Station USC00519281\n"
     ]
    },
    {
     "data": {
      "text/plain": [
       "('USC00519281', 12.2, 29.4, 22.03582251082252)"
      ]
     },
     "metadata": {},
     "output_type": "display_data"
    },
    {
     "name": "stdout",
     "output_type": "stream",
     "text": [
      "Station: USC00519281\n",
      "Min. temperature: 12.2 degC\n",
      "Max. temperature: 29.4 degC\n",
      "Avg. temperature: 22.0 degC\n"
     ]
    }
   ],
   "source": [
    "# Using the most active station id from the previous query, calculate the lowest, highest, and average temperature.\n",
    "# Get the most active station (first item of the first row)\n",
    "most_active_station = station_activity[0][0]\n",
    "print(f\"The most active station is: Station {most_active_station}\")\n",
    "\n",
    "sel = [measurement.station,\n",
    "    func.min(measurement.tobs),\n",
    "    func.max(measurement.tobs),\n",
    "    func.avg(measurement.tobs)]\n",
    "\n",
    "# Get the station, and temperature min, max and average\n",
    "most_active_station_data = session.query(*sel)\n",
    "\n",
    "# Group by station and filter to get only the most active station\n",
    "most_active_station_data = most_active_station_data.group_by(measurement.station).filter(measurement.station == most_active_station)\n",
    "\n",
    "# Get the first row of the result (there is only one, the most active station)\n",
    "most_active_station_data = most_active_station_data.first()\n",
    "display(most_active_station_data)\n",
    "\n",
    "# Display the data in a more human-friendly way\n",
    "print(f\"Station: {most_active_station_data[0]}\")\n",
    "print(f\"Min. temperature: {most_active_station_data[1]} degC\")\n",
    "print(f\"Max. temperature: {most_active_station_data[2]} degC\")\n",
    "print(f\"Avg. temperature: {most_active_station_data[3]:.1f} degC\")"
   ]
  },
  {
   "cell_type": "code",
   "execution_count": 27,
   "metadata": {},
   "outputs": [
    {
     "name": "stdout",
     "output_type": "stream",
     "text": [
      "Most recent date in table: 2017-08-18\n",
      "One year from most recent date: 2016-08-18\n"
     ]
    },
    {
     "data": {
      "image/png": "[encoded data removed]",
      "text/plain": [
       "<Figure size 640x480 with 1 Axes>"
      ]
     },
     "metadata": {},
     "output_type": "display_data"
    }
   ],
   "source": [
    "# Using the most active station id\n",
    "most_active_station_query = session.query(measurement).filter(measurement.station == most_active_station).order_by(desc(measurement.date))\n",
    "\n",
    "# Query the last 12 months of temperature observation data for this station\n",
    "station_most_recent_date_string = most_active_station_query.first().date\n",
    "station_most_recent_date, station_most_recent_date_plus_1y = last_12_months(station_most_recent_date_string)\n",
    "\n",
    "# Create empty lists\n",
    "station_dates = []\n",
    "station_temps = []\n",
    "\n",
    "# Loop through the measurements\n",
    "for row in most_active_station_query:\n",
    "    # Convert date to datetime\n",
    "    row_date = str_to_date(row.date)\n",
    "    \n",
    "    # If the date is more recent than the limit date (1 year from most recent date)\n",
    "    # and the precipitations values are not null...\n",
    "    if (row_date >= station_most_recent_date_plus_1y) & (type(row.tobs) == float):\n",
    "        # ... then append the data to the lists\n",
    "        station_dates.append(row_date)\n",
    "        station_temps.append(row.tobs)\n",
    "\n",
    "# Save the data in a DataFrame\n",
    "temperature_df = pd.DataFrame({'Date': station_dates, 'Temperature': station_temps})\n",
    "\n",
    "# Plot the results in a histogram\n",
    "temperature_df['Temperature'].plot.hist(bins=12, ylabel = 'Frequency', xlabel = 'Temperature (degC)')\n",
    "plt.show()"
   ]
  },
  {
   "cell_type": "markdown",
   "metadata": {},
   "source": [
    "# Close Session"
   ]
  },
  {
   "cell_type": "code",
   "execution_count": 14,
   "metadata": {},
   "outputs": [],
   "source": [
    "# Close Session\n",
    "session.close()"
   ]
  }
 ],
 "metadata": {
  "anaconda-cloud": {},
  "kernel_info": {
   "name": "python3"
  },
  "kernelspec": {
   "display_name": "Python 3 (ipykernel)",
   "language": "python",
   "name": "python3"
  },
  "language_info": {
   "codemirror_mode": {
    "name": "ipython",
    "version": 3
   },
   "file_extension": ".py",
   "mimetype": "text/x-python",
   "name": "python",
   "nbconvert_exporter": "python",
   "pygments_lexer": "ipython3",
   "version": "3.10.11"
  },
  "nteract": {
   "version": "0.12.3"
  },
  "varInspector": {
   "cols": {
    "lenName": 16,
    "lenType": 16,
    "lenVar": 40
   },
   "kernels_config": {
    "python": {
     "delete_cmd_postfix": "",
     "delete_cmd_prefix": "del ",
     "library": "var_list.py",
     "varRefreshCmd": "print(var_dic_list())"
    },
    "r": {
     "delete_cmd_postfix": ") ",
     "delete_cmd_prefix": "rm(",
     "library": "var_list.r",
     "varRefreshCmd": "cat(var_dic_list()) "
    }
   },
   "types_to_exclude": [
    "module",
    "function",
    "builtin_function_or_method",
    "instance",
    "_Feature"
   ],
   "window_display": false
  }
 },
 "nbformat": 4,
 "nbformat_minor": 2
}
